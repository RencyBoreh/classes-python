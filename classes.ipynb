{
  "nbformat": 4,
  "nbformat_minor": 0,
  "metadata": {
    "colab": {
      "provenance": []
    },
    "kernelspec": {
      "name": "python3",
      "display_name": "Python 3"
    },
    "language_info": {
      "name": "python"
    }
  },
  "cells": [
    {
      "cell_type": "code",
      "execution_count": 3,
      "metadata": {
        "colab": {
          "base_uri": "https://localhost:8080/"
        },
        "id": "eXZyGT-Ix7KA",
        "outputId": "2e28f51a-ad99-452a-bb4b-df6b90034833"
      },
      "outputs": [
        {
          "output_type": "stream",
          "name": "stdout",
          "text": [
            "Rency is a Doctor\n",
            "Rency says Hello!\n",
            "Rabby is a Teacher\n",
            "Rabby says Hello!\n"
          ]
        }
      ],
      "source": [
        "class Human:\n",
        "  def __init__(self,name,age,occupation):\n",
        "    self.name=name\n",
        "    self.age=age\n",
        "    self.occupation=occupation\n",
        "  def do_work(self):\n",
        "    if self.occupation==\"Doctor\":\n",
        "      print(f\"{self.name} is a Doctor\")\n",
        "    elif self.occupation==\"Teacher\":\n",
        "      print(f\"{self.name} is a Teacher\")\n",
        "  def speaks(self):\n",
        "    print(f\"{self.name} says Hello!\")\n",
        "rency=Human(\"Rency\",21,\"Doctor\")\n",
        "rency.do_work()\n",
        "rency.speaks()\n",
        "rabby=Human(\"Rabby\",22,\"Teacher\")\n",
        "rabby.do_work()\n",
        "rabby.speaks()"
      ]
    },
    {
      "cell_type": "code",
      "source": [
        "class student:\n",
        "  def __init__(self,name,course,grade):\n",
        "    self.name=name\n",
        "    self.course=course\n",
        "    self.grade=grade\n",
        "\n",
        "  def __str__(self):\n",
        "    return f\"Name:{self.name},Course:{self.course},Grade:{self.grade}\"\n",
        "\n",
        "rency=student(\"Rency \",\"Software Engineering \",'A+')\n",
        "print(rency)"
      ],
      "metadata": {
        "colab": {
          "base_uri": "https://localhost:8080/"
        },
        "id": "KTOuNaBjy_mX",
        "outputId": "cac34b14-ddf3-4d3a-fcd6-fa62d749fbf2"
      },
      "execution_count": 14,
      "outputs": [
        {
          "output_type": "stream",
          "name": "stdout",
          "text": [
            "Name:Rency ,Course:Software Engineering ,Grade:A+\n"
          ]
        }
      ]
    },
    {
      "cell_type": "code",
      "source": [
        "class Person:\n",
        "  def __init__(self, name, age):\n",
        "    self.name = name\n",
        "    self.age = age\n",
        "\n",
        "  def __str__(self):\n",
        "    return f\"{self.name}({self.age})\"\n",
        "\n",
        "p1 = Person(\"John\", 36)\n",
        "\n",
        "print(p1)"
      ],
      "metadata": {
        "colab": {
          "base_uri": "https://localhost:8080/"
        },
        "id": "ZoK6jrrH248p",
        "outputId": "eec46095-d0f9-4e7d-a926-36ac7a07602c"
      },
      "execution_count": 6,
      "outputs": [
        {
          "output_type": "stream",
          "name": "stdout",
          "text": [
            "John(36)\n"
          ]
        }
      ]
    },
    {
      "cell_type": "code",
      "source": [
        "class Humans:\n",
        "  def __init__(self,name,age,school):\n",
        "    self.name=name\n",
        "    self.age=age\n",
        "    self.school=school\n",
        "  def __str__(self):\n",
        "    return f\"{self.name} {self.age} {self.school}\"\n",
        "ren=Humans(\"Rency\",21,\"KYU\")\n",
        "print(ren)"
      ],
      "metadata": {
        "colab": {
          "base_uri": "https://localhost:8080/"
        },
        "id": "YuREuhTS4Age",
        "outputId": "b6f77c29-779d-43b6-8e25-26d3df06134b"
      },
      "execution_count": 11,
      "outputs": [
        {
          "output_type": "stream",
          "name": "stdout",
          "text": [
            "Rency 21 KYU\n"
          ]
        }
      ]
    },
    {
      "cell_type": "code",
      "source": [],
      "metadata": {
        "id": "0v_z2lb25Idx"
      },
      "execution_count": null,
      "outputs": []
    }
  ]
}